{
 "cells": [
  {
   "cell_type": "markdown",
   "metadata": {
    "slideshow": {
     "slide_type": "slide"
    }
   },
   "source": [
    "\n",
    "\n",
    "\n",
    "## \"Do you speak NLP?\"\n",
    "\n",
    "#### Ein Streifzug durch modernes Natural Language Processing mit Python"
   ]
  },
  {
   "cell_type": "markdown",
   "metadata": {
    "slideshow": {
     "slide_type": "slide"
    }
   },
   "source": [
    "## Natural Language Processing - was ist das genau?"
   ]
  },
  {
   "cell_type": "markdown",
   "metadata": {
    "slideshow": {
     "slide_type": "fragment"
    }
   },
   "source": [
    "* Dokumentenmanagementsoftware in Bibliotheken, Archiven und Behörden"
   ]
  },
  {
   "cell_type": "markdown",
   "metadata": {
    "slideshow": {
     "slide_type": "fragment"
    }
   },
   "source": [
    "* Analyse von Schadensreports bei Versicherungen"
   ]
  },
  {
   "cell_type": "markdown",
   "metadata": {
    "slideshow": {
     "slide_type": "fragment"
    }
   },
   "source": [
    "* Maschinelle Übersetzung von Rechtstexten in 23 EU-Sprachen"
   ]
  },
  {
   "cell_type": "markdown",
   "metadata": {
    "slideshow": {
     "slide_type": "fragment"
    }
   },
   "source": [
    "* Automatisches Verteilen von Supportmails"
   ]
  },
  {
   "cell_type": "markdown",
   "metadata": {
    "slideshow": {
     "slide_type": "fragment"
    }
   },
   "source": [
    "* Monitoring von Social Media Platformen für bekannte Unternehmen, Personen etc."
   ]
  },
  {
   "cell_type": "markdown",
   "metadata": {
    "slideshow": {
     "slide_type": "slide"
    }
   },
   "source": [
    "## NLP - Ein Definitionsversuch"
   ]
  },
  {
   "cell_type": "markdown",
   "metadata": {
    "slideshow": {
     "slide_type": "fragment"
    }
   },
   "source": [
    "_\"Das (automatische) Verarbeiten von Input in natürlicher Sprache durch Computer(-programme)\"_"
   ]
  },
  {
   "cell_type": "markdown",
   "metadata": {
    "slideshow": {
     "slide_type": "fragment"
    }
   },
   "source": [
    "#### Bereiche\n",
    "\n",
    "* Rule-based NLP\n",
    "* Statistical NLP\n",
    "* ML / Neural NLP"
   ]
  },
  {
   "cell_type": "markdown",
   "metadata": {
    "slideshow": {
     "slide_type": "slide"
    }
   },
   "source": [
    "# Sentiment Analysis!"
   ]
  },
  {
   "cell_type": "markdown",
   "metadata": {
    "slideshow": {
     "slide_type": "fragment"
    }
   },
   "source": [
    "_Automatisiertes und flächendeckendes Einfangen von Stimmungen_"
   ]
  },
  {
   "cell_type": "markdown",
   "metadata": {
    "slideshow": {
     "slide_type": "fragment"
    }
   },
   "source": [
    "Sentiment Analysis ist im Grunde Document Classification mit den Labels positiv und negativ.\n",
    "\n",
    "* Wir wollen Sentiments von (englischsprachigen) Produkt-Reviews auf Amazon ermitteln"
   ]
  },
  {
   "cell_type": "markdown",
   "metadata": {
    "slideshow": {
     "slide_type": "fragment"
    }
   },
   "source": [
    "* Baseline: Menschliche Trefferquote von etwa 80%"
   ]
  },
  {
   "cell_type": "markdown",
   "metadata": {
    "slideshow": {
     "slide_type": "slide"
    }
   },
   "source": [
    "## Part 1 : Rule based NLP \n",
    "\n",
    "### Allgemeines"
   ]
  },
  {
   "cell_type": "markdown",
   "metadata": {
    "slideshow": {
     "slide_type": "fragment"
    }
   },
   "source": [
    "* Grundlage: linguistisches und philologisches Fachwissen"
   ]
  },
  {
   "cell_type": "markdown",
   "metadata": {
    "slideshow": {
     "slide_type": "fragment"
    }
   },
   "source": [
    "* \"Wenn wir die Regeln kennen, brauchen wir keine ML-Models dafür zu trainieren\" "
   ]
  },
  {
   "cell_type": "markdown",
   "metadata": {
    "slideshow": {
     "slide_type": "fragment"
    }
   },
   "source": [
    "* Besonders stark im Pre-Processing: Tokenization, Stemming, Lemmatization etc."
   ]
  },
  {
   "cell_type": "markdown",
   "metadata": {
    "slideshow": {
     "slide_type": "fragment"
    }
   },
   "source": [
    "* Hauptakteuere (Python): NLTK, Spacy (Rules)"
   ]
  },
  {
   "cell_type": "markdown",
   "metadata": {
    "slideshow": {
     "slide_type": "slide"
    }
   },
   "source": [
    "### Datengrundlage\n",
    "\n",
    "Datensets von Product Reviews von Amazon.com.\n",
    "\n",
    "Datensets zu finden auf kaggle.com:\n",
    "\n",
    "* https://www.kaggle.com/arhamrumi/amazon-product-reviews\n",
    "\n",
    "Liste positiver und negativer Begriffe der Universität Chicago:\n",
    "\n",
    "* http://www.cs.uic.edu/~liub/FBS/opinion-lexicon-English.rar\n",
    "\n",
    "Code für Webinar zu finden unter:\n",
    "\n",
    "* https://github.com/restlessbytes/nlp-webinar"
   ]
  },
  {
   "cell_type": "code",
   "execution_count": 1,
   "metadata": {
    "slideshow": {
     "slide_type": "skip"
    }
   },
   "outputs": [],
   "source": [
    "import nltk\n",
    "from utils import tokens, stopwords_english\n",
    "from data_loaders import load_pos_neg_words, load_pos_neg_lookup"
   ]
  },
  {
   "cell_type": "code",
   "execution_count": 2,
   "metadata": {
    "slideshow": {
     "slide_type": "slide"
    }
   },
   "outputs": [],
   "source": [
    "rev_pos = \"Fine tissue, awesome colour!\"\n",
    "rev_neg = \"That phone charger is completely useless - don't buy!!!\""
   ]
  },
  {
   "cell_type": "code",
   "execution_count": 7,
   "metadata": {
    "slideshow": {
     "slide_type": "fragment"
    }
   },
   "outputs": [
    {
     "data": {
      "text/plain": [
       "['phone', 'charger', 'completely', 'useless', 'not', 'buy']"
      ]
     },
     "execution_count": 7,
     "metadata": {},
     "output_type": "execute_result"
    }
   ],
   "source": [
    "# preprocessing: splitting / tokenizing\n",
    "tks = tokens(rev_neg)\n",
    "tks"
   ]
  },
  {
   "cell_type": "code",
   "execution_count": 14,
   "metadata": {
    "slideshow": {
     "slide_type": "fragment"
    }
   },
   "outputs": [
    {
     "data": {
      "text/plain": [
       "Counter({'': 5, 'negative': 1})"
      ]
     },
     "execution_count": 14,
     "metadata": {},
     "output_type": "execute_result"
    }
   ],
   "source": [
    "# sentiment lookups & counts\n",
    "sentiment_lookup = load_pos_neg_lookup()\n",
    "sentiment_lookup.get('phone')\n",
    "from collections import Counter\n",
    "\n",
    "Counter([sentiment_lookup.get(t.lower(), '') for t in tks])"
   ]
  },
  {
   "cell_type": "markdown",
   "metadata": {
    "slideshow": {
     "slide_type": "slide"
    }
   },
   "source": [
    "## Unsere Regel in der Übersicht\n",
    "\n",
    "**Regel 1** : Ein Wort == Ein Token  \n",
    "**Regel 2** : Stop und Grammar words werden ignoriert  \n",
    "**Regel 3** : Ein Text ist positiv, wenn die Anzahl positiver Begriffe die der negativen überwiegt (analog für negativ).\n"
   ]
  },
  {
   "cell_type": "markdown",
   "metadata": {
    "slideshow": {
     "slide_type": "slide"
    }
   },
   "source": [
    "# Let's test!"
   ]
  },
  {
   "cell_type": "code",
   "execution_count": 3,
   "metadata": {
    "slideshow": {
     "slide_type": "skip"
    }
   },
   "outputs": [],
   "source": [
    "import pandas as pd\n",
    "import numpy as np\n",
    "import matplotlib.pyplot as plt\n",
    "\n",
    "def show_results(results, results_by_sent):\n",
    "    correct, sample_size = results\n",
    "    results_percentage = 100 * (correct / sample_size)\n",
    "    \n",
    "    # define subplots\n",
    "    fig, axs = plt.subplots(ncols=len(results_by_sent)+1, figsize=(12, 4))\n",
    "    fig.tight_layout(pad=2)\n",
    "    \n",
    "    # overall performance\n",
    "    cur_ax = axs[0]\n",
    "    \n",
    "    colors = ['tab:blue', 'tab:cyan']\n",
    "    bars = ['labeled', 'correct']\n",
    "    title = f\"Overall ({results_percentage:.2f}%)\"\n",
    "    cur_ax.set_title(title)\n",
    "    \n",
    "    x_pos = np.arange(len(bars))\n",
    "\n",
    "    cur_ax.bar(x_pos, [results[1], results[0]], color=colors)\n",
    "    cur_ax.set_xticks(x_pos)\n",
    "    cur_ax.set_xticklabels(bars)\n",
    "\n",
    "    # barplot subplots\n",
    "    colors = ['tab:blue', 'tab:cyan', 'tab:blue']\n",
    "    # bars = ['labeled', 'predicted', 'correct']\n",
    "    bars = ['predicted', 'labeled', 'correct']\n",
    "    for pos, res in enumerate(results_by_sent):\n",
    "        label, data = res\n",
    "        lbl, prd, cor = data\n",
    "\n",
    "        cur_ax = axs[pos+1]\n",
    "        cur_cor = (cor / lbl) * 100\n",
    "        title = f\"{label} ({cur_cor:.2f}%)\"\n",
    "        cur_ax.set_title(title)\n",
    "\n",
    "        x_pos = np.arange(len(bars))\n",
    "\n",
    "        cur_ax.bar(x_pos, [prd, lbl, cor], color=colors)\n",
    "        cur_ax.set_xticks(x_pos)\n",
    "        cur_ax.set_xticklabels(bars)\n",
    "\n",
    "    plt.show()"
   ]
  },
  {
   "cell_type": "markdown",
   "metadata": {
    "slideshow": {
     "slide_type": "slide"
    }
   },
   "source": [
    "### [Rule based] Sentiment : Amazon reviews\n",
    "\n",
    "| Amazon Reviews : Test Setup | |\n",
    "| :--- | ---: |\n",
    "| Training Sample Size | 0 |\n",
    "| Test Sample Size | 3000 |\n",
    "| Feature vector size | 6786 |\n",
    "| **Information about Amazon Reviews** | |\n",
    "| Avg. text length (in tokens) |      42 |\n",
    "| Min text length (in tokens) |       6 |\n",
    "| Max text length (in tokens) |     1077 |\n",
    "| Avg. share of 3000 most common words | 60.38% |"
   ]
  },
  {
   "cell_type": "code",
   "execution_count": 5,
   "metadata": {
    "slideshow": {
     "slide_type": "skip"
    }
   },
   "outputs": [],
   "source": [
    "# overall correctly predicted results\n",
    "correct = (1963, 3000)\n",
    "# record format: (<sentiment>, [<label>, <predicted>, <correct>])\n",
    "amazon_results = [('positive', [1542, 2086, 1403]), ('negative', [1458, 618, 560])]"
   ]
  },
  {
   "cell_type": "markdown",
   "metadata": {
    "slideshow": {
     "slide_type": "slide"
    }
   },
   "source": [
    "### [Rule based] Sentiment : Amazon reviews"
   ]
  },
  {
   "cell_type": "code",
   "execution_count": 6,
   "metadata": {
    "slideshow": {
     "slide_type": "fragment"
    }
   },
   "outputs": [
    {
     "data": {
      "image/png": "[encoded data removed]",
      "text/plain": [
       "<Figure size 864x288 with 3 Axes>"
      ]
     },
     "metadata": {
      "needs_background": "light"
     },
     "output_type": "display_data"
    }
   ],
   "source": [
    "show_results(correct, amazon_results)"
   ]
  },
  {
   "cell_type": "markdown",
   "metadata": {
    "slideshow": {
     "slide_type": "slide"
    }
   },
   "source": [
    "### Rule-based NLP - Was wir hier mitnehmen können"
   ]
  },
  {
   "cell_type": "markdown",
   "metadata": {
    "slideshow": {
     "slide_type": "fragment"
    }
   },
   "source": [
    "* Basiert auf linguistischen Erkenntnissen"
   ]
  },
  {
   "cell_type": "markdown",
   "metadata": {
    "slideshow": {
     "slide_type": "fragment"
    }
   },
   "source": [
    "* Datengrundlage ist relativ einheitlich oder nischenspezifisch"
   ]
  },
  {
   "cell_type": "markdown",
   "metadata": {
    "slideshow": {
     "slide_type": "fragment"
    }
   },
   "source": [
    "* Datengrundlage zu klein für ML-Ansätze"
   ]
  },
  {
   "cell_type": "markdown",
   "metadata": {
    "slideshow": {
     "slide_type": "fragment"
    }
   },
   "source": [
    "* Programme relativ einfach und verständlich"
   ]
  },
  {
   "cell_type": "markdown",
   "metadata": {
    "slideshow": {
     "slide_type": "fragment"
    }
   },
   "source": [
    "* Performance kein maßgebliches Kriterium"
   ]
  },
  {
   "cell_type": "markdown",
   "metadata": {
    "slideshow": {
     "slide_type": "slide"
    }
   },
   "source": [
    "## Interludium : Rule-based Matchers (spacy)"
   ]
  },
  {
   "cell_type": "code",
   "execution_count": null,
   "metadata": {
    "slideshow": {
     "slide_type": "fragment"
    }
   },
   "outputs": [],
   "source": [
    "# spacy Rule based Matchers\n",
    "...\n",
    "pattern_pos = [{\"LEMMA\": {\"IN\": pos}}]\n",
    "pattern_neg = [{\"LEMMA\": {\"IN\": neg}}]\n",
    "\n",
    "matcher.add(\"pos\", [pattern_pos])\n",
    "matcher.add(\"neg\", [pattern_neg])\n",
    "\n",
    "matcher(doc)"
   ]
  },
  {
   "cell_type": "markdown",
   "metadata": {
    "slideshow": {
     "slide_type": "slide"
    }
   },
   "source": [
    "## Part 2 : Statistical NLP"
   ]
  },
  {
   "cell_type": "markdown",
   "metadata": {
    "slideshow": {
     "slide_type": "fragment"
    }
   },
   "source": [
    "Oder: Was tun, wenn wir statt einer Horde Linguisten eine Horde Statistiker haben?"
   ]
  },
  {
   "cell_type": "markdown",
   "metadata": {
    "slideshow": {
     "slide_type": "fragment"
    }
   },
   "source": [
    "* Statistical NLP = Rule-based + Statistische Modelle"
   ]
  },
  {
   "cell_type": "markdown",
   "metadata": {
    "slideshow": {
     "slide_type": "fragment"
    }
   },
   "source": [
    "* ab hier beginnt der Bereich des Machine Learning"
   ]
  },
  {
   "cell_type": "markdown",
   "metadata": {
    "slideshow": {
     "slide_type": "fragment"
    }
   },
   "source": [
    "* Hauptakteuere: Decision Trees, Support Vector Machines und Naive Bayes"
   ]
  },
  {
   "cell_type": "markdown",
   "metadata": {
    "slideshow": {
     "slide_type": "fragment"
    }
   },
   "source": [
    "* Idee: Das Nutzen von Modellen um automat. Regeln abzuleiten"
   ]
  },
  {
   "cell_type": "markdown",
   "metadata": {
    "slideshow": {
     "slide_type": "slide"
    }
   },
   "source": [
    "### Statistical NLP und Sentiment Analysis"
   ]
  },
  {
   "cell_type": "code",
   "execution_count": null,
   "metadata": {
    "slideshow": {
     "slide_type": "skip"
    }
   },
   "outputs": [],
   "source": [
    "import nltk\n",
    "\n",
    "from nltk import NaiveBayesClassifier\n",
    "\n",
    "rev_pos_token = {'awesome', 'tablet', 'speed'}\n",
    "\n",
    "rev_pos_bag = {'tablet': True, 'not': False, 'tablet': False, 'awesome': True, 'speed': True, 'horrible': False}"
   ]
  },
  {
   "cell_type": "code",
   "execution_count": null,
   "metadata": {
    "slideshow": {
     "slide_type": "fragment"
    }
   },
   "outputs": [],
   "source": [
    "rev_pos = \"Awesome tablet, awesome speed!\"\n",
    "rev_neg = \"That tablet was horrible, won't buy it again\"\n",
    "\n",
    "# bag of words\n",
    "rev_pos"
   ]
  },
  {
   "cell_type": "code",
   "execution_count": null,
   "metadata": {
    "slideshow": {
     "slide_type": "fragment"
    }
   },
   "outputs": [],
   "source": [
    "rev_pos_token"
   ]
  },
  {
   "cell_type": "code",
   "execution_count": null,
   "metadata": {
    "slideshow": {
     "slide_type": "fragment"
    }
   },
   "outputs": [],
   "source": [
    "rev_pos_bag"
   ]
  },
  {
   "cell_type": "markdown",
   "metadata": {
    "slideshow": {
     "slide_type": "slide"
    }
   },
   "source": [
    "## Der Naive Bayes\n",
    "\n",
    "\n",
    "![Naive Bayes Classifier](images/naive_bayes.png)"
   ]
  },
  {
   "cell_type": "markdown",
   "metadata": {
    "slideshow": {
     "slide_type": "fragment"
    }
   },
   "source": [
    "**\"Awesome tablet, awesome speed!\"**\n",
    "\n",
    "| |positive|negative|\n",
    "| :--- | :--- | :--- |\n",
    "|awesome|0.5|0.1|\n",
    "|tablet|0.3|0.3|\n",
    "|speed|0.2|0.4|\n",
    "|=|**0,03**|0,012|"
   ]
  },
  {
   "cell_type": "markdown",
   "metadata": {
    "slideshow": {
     "slide_type": "slide"
    }
   },
   "source": [
    "# Let's test!"
   ]
  },
  {
   "cell_type": "markdown",
   "metadata": {
    "slideshow": {
     "slide_type": "slide"
    }
   },
   "source": [
    "### [Naive Bayes] Sentiment for Amazon reviews \n",
    "\n",
    "| Amazon Reviews : Test Setup | |\n",
    "| :--- | ---: |\n",
    "| Training Sample Size | 40000 |\n",
    "| Test Sample Size | 6000 |\n",
    "| Feature vector size | 3000 |\n",
    "| **Information about Amazon Reviews** | |\n",
    "| Avg. text length (in tokens) |      42 |\n",
    "| Min text length (in tokens) |       5 |\n",
    "| Max text length (in tokens) |      799 |\n",
    "| Avg. share of 3000 most common words | 60.18% |"
   ]
  },
  {
   "cell_type": "code",
   "execution_count": 11,
   "metadata": {
    "slideshow": {
     "slide_type": "skip"
    }
   },
   "outputs": [],
   "source": [
    "# overall correctly predicted results\n",
    "correct = (5094, 6000)\n",
    "# record format: (<sentiment>, [<label>, <predicted>, <correct>])\n",
    "amazon_results = [('positive', [3000, 3268, 2681]), ('negative', [3000, 2732, 2413])]"
   ]
  },
  {
   "cell_type": "markdown",
   "metadata": {
    "slideshow": {
     "slide_type": "slide"
    }
   },
   "source": [
    "### [Naive Bayes] Sentiment for Amazon reviews"
   ]
  },
  {
   "cell_type": "code",
   "execution_count": 10,
   "metadata": {
    "scrolled": true,
    "slideshow": {
     "slide_type": "fragment"
    }
   },
   "outputs": [
    {
     "data": {
      "image/png": "[encoded data removed]",
      "text/plain": [
       "<Figure size 864x288 with 3 Axes>"
      ]
     },
     "metadata": {
      "needs_background": "light"
     },
     "output_type": "display_data"
    }
   ],
   "source": [
    "show_results(correct, amazon_results)"
   ]
  },
  {
   "cell_type": "markdown",
   "metadata": {
    "slideshow": {
     "slide_type": "slide"
    }
   },
   "source": [
    "## Beispiele\n"
   ]
  },
  {
   "cell_type": "markdown",
   "metadata": {
    "slideshow": {
     "slide_type": "fragment"
    }
   },
   "source": [
    "\"Works fine on wifi, otherwise a little slow. My kid enjoys it though. For the price it's good.\"\n",
    "\n",
    " **3 Sterne**"
   ]
  },
  {
   "cell_type": "markdown",
   "metadata": {
    "slideshow": {
     "slide_type": "fragment"
    }
   },
   "source": [
    "\"I personally like the old shape ( more square ) of the kindle better. I use to have a 8 inch and loved it until my grandkids dropped it and now it doesn't work any more.\" \n",
    "\n",
    "**5 Sterne**"
   ]
  },
  {
   "cell_type": "markdown",
   "metadata": {
    "slideshow": {
     "slide_type": "slide"
    }
   },
   "source": [
    "## Beispiele\n"
   ]
  },
  {
   "cell_type": "markdown",
   "metadata": {
    "slideshow": {
     "slide_type": "fragment"
    }
   },
   "source": [
    "\n",
    "great **not** amazon price kindle would best much battery read reading **little** far using life still <br/>able go **without** name want yet though overall think **bad** longer hours cover\n",
    "\n",
    "**Erkannt:  negative - Orginal:  positive**"
   ]
  },
  {
   "cell_type": "markdown",
   "metadata": {
    "slideshow": {
     "slide_type": "fragment"
    }
   },
   "source": [
    "**great** tablet not **good** would **recommend** older\n",
    "\n",
    "**Erkannt:  positive - Orginal:  negative**"
   ]
  },
  {
   "cell_type": "markdown",
   "metadata": {
    "slideshow": {
     "slide_type": "slide"
    }
   },
   "source": [
    "### Statistical NLP - Was wir hier mitnehmen können"
   ]
  },
  {
   "cell_type": "markdown",
   "metadata": {
    "slideshow": {
     "slide_type": "fragment"
    }
   },
   "source": [
    "* relativ einfach zu verstehen"
   ]
  },
  {
   "cell_type": "markdown",
   "metadata": {
    "slideshow": {
     "slide_type": "fragment"
    }
   },
   "source": [
    "* wenig linguistisches Fachwissen nötig"
   ]
  },
  {
   "cell_type": "markdown",
   "metadata": {
    "slideshow": {
     "slide_type": "fragment"
    }
   },
   "source": [
    "* braucht vergleichsweise wenig Trainingsdaten für gute Ergebnisse"
   ]
  },
  {
   "cell_type": "markdown",
   "metadata": {
    "slideshow": {
     "slide_type": "fragment"
    }
   },
   "source": [
    "* Gute Performance ist wichtig"
   ]
  },
  {
   "cell_type": "markdown",
   "metadata": {
    "slideshow": {
     "slide_type": "fragment"
    }
   },
   "source": [
    "* Kontinuierliches Training"
   ]
  },
  {
   "cell_type": "markdown",
   "metadata": {
    "slideshow": {
     "slide_type": "fragment"
    }
   },
   "source": [
    "* Robust (wenig Probleme mit fehlenden und/oder unvollständigen Daten)"
   ]
  },
  {
   "cell_type": "markdown",
   "metadata": {
    "slideshow": {
     "slide_type": "fragment"
    }
   },
   "source": [
    "* Reviews in denen die Begriffe **\"Not\"** und **\"Bad\"** vorkommen sind wahrscheinlich negativ "
   ]
  },
  {
   "cell_type": "markdown",
   "metadata": {
    "slideshow": {
     "slide_type": "slide"
    }
   },
   "source": [
    "## Part 3 : Neural NLP"
   ]
  },
  {
   "cell_type": "markdown",
   "metadata": {
    "slideshow": {
     "slide_type": "slide"
    }
   },
   "source": [
    "### Word Vectors!\n",
    "\n",
    "**Idee**: Repräsentiere ein Wort bzw. dessen Bedeutung als einen Vector $v \\in R^N$:  \n",
    "&emsp;&emsp;super = $(2.1, 3.8)$, toll = $(2.9, 4.1)$, schlecht = $(3.8, 2.1)$, grauenhaft = $(4.1, 1.7)$"
   ]
  },
  {
   "cell_type": "markdown",
   "metadata": {
    "slideshow": {
     "slide_type": "fragment"
    }
   },
   "source": [
    "![Word Vector Space](images/word_vec_space.png)"
   ]
  },
  {
   "cell_type": "markdown",
   "metadata": {
    "slideshow": {
     "slide_type": "fragment"
    }
   },
   "source": [
    "$\\rightarrow$ Ähnlichkeit von Wörtern = Nähe im Vektorraum!"
   ]
  },
  {
   "cell_type": "markdown",
   "metadata": {
    "slideshow": {
     "slide_type": "slide"
    }
   },
   "source": [
    "### Word Embeddings durch Neuronale Netze\n",
    "\n",
    "![Word Embedding](images/nn_word_embedding.png)"
   ]
  },
  {
   "cell_type": "markdown",
   "metadata": {
    "slideshow": {
     "slide_type": "slide"
    }
   },
   "source": [
    "### Word Vectors $\\rightarrow$ Document Vectors\n",
    "\n",
    "**Idee**: Repräsentiere ein Dokument bzw. dessen Bedeutung als einen Vektor $v \\in R^N$.\n",
    "\n",
    "![Doc Embedding](images/doc_vec_space.png)"
   ]
  },
  {
   "cell_type": "markdown",
   "metadata": {
    "slideshow": {
     "slide_type": "fragment"
    }
   },
   "source": [
    "$\\rightarrow$ Ähnlichkeit von Dokumenten = Nähe in Vektorraum!"
   ]
  },
  {
   "cell_type": "markdown",
   "metadata": {
    "slideshow": {
     "slide_type": "slide"
    }
   },
   "source": [
    "### Doc2Vec - Von Word embeddings zu Document embeddings\n",
    "\n",
    "![Document Embedding](images/nn_doc_embedding.png)"
   ]
  },
  {
   "cell_type": "markdown",
   "metadata": {
    "slideshow": {
     "slide_type": "slide"
    }
   },
   "source": [
    "# Let's test!"
   ]
  },
  {
   "cell_type": "markdown",
   "metadata": {
    "slideshow": {
     "slide_type": "slide"
    }
   },
   "source": [
    "### [NN Doc2Vec] Sentiment for Amazon reviews\n",
    "\n",
    "| Amazon Reviews : Test Setup | |\n",
    "| :--- | ---: |\n",
    "| Training Sample Size | 40000 |\n",
    "| Test Sample Size | 6000 |\n",
    "| Feature vector size | 300 |\n",
    "| Training epochs | 20 |\n",
    "| **Information about Amazon Reviews** | |\n",
    "| Avg. text length (in tokens) |      42 |\n",
    "| Min text length (in tokens) |       5 |\n",
    "| Max text length (in tokens) |      611 |\n",
    "| Avg. share of 3000 most common words | 60.32% |"
   ]
  },
  {
   "cell_type": "code",
   "execution_count": 13,
   "metadata": {
    "slideshow": {
     "slide_type": "skip"
    }
   },
   "outputs": [],
   "source": [
    "# overall correctly predicted results\n",
    "correct = (4922, 6000)\n",
    "# record format: (<sentiment>, [<label>, <predicted>, <correct>])\n",
    "amazon_results = [('positive', [3000, 2782, 2352]), ('negative', [3000, 3218, 2570])]"
   ]
  },
  {
   "cell_type": "markdown",
   "metadata": {
    "slideshow": {
     "slide_type": "slide"
    }
   },
   "source": [
    "### [NN Doc2Vec] Sentiment for Amazon reviews"
   ]
  },
  {
   "cell_type": "code",
   "execution_count": 14,
   "metadata": {
    "slideshow": {
     "slide_type": "fragment"
    }
   },
   "outputs": [
    {
     "data": {
      "image/png": "[encoded data removed]",
      "text/plain": [
       "<Figure size 864x288 with 3 Axes>"
      ]
     },
     "metadata": {
      "needs_background": "light"
     },
     "output_type": "display_data"
    }
   ],
   "source": [
    "show_results(correct, amazon_results)"
   ]
  },
  {
   "cell_type": "markdown",
   "metadata": {
    "slideshow": {
     "slide_type": "slide"
    }
   },
   "source": [
    "### Neural NLP - Was wir hier mitnehmen können"
   ]
  },
  {
   "cell_type": "markdown",
   "metadata": {
    "slideshow": {
     "slide_type": "fragment"
    }
   },
   "source": [
    "* Großer Trainingscorpus notwendig + Resourcenverbrauch"
   ]
  },
  {
   "cell_type": "markdown",
   "metadata": {
    "slideshow": {
     "slide_type": "fragment"
    }
   },
   "source": [
    "* Hohe Genauigkeit und Flexibilität"
   ]
  },
  {
   "cell_type": "markdown",
   "metadata": {
    "slideshow": {
     "slide_type": "fragment"
    }
   },
   "source": [
    "* Kontinuierliches Training"
   ]
  },
  {
   "cell_type": "markdown",
   "metadata": {
    "slideshow": {
     "slide_type": "fragment"
    }
   },
   "source": [
    "* Verständlichkeit und Nachvollziehbarkeit unwichtig"
   ]
  },
  {
   "cell_type": "markdown",
   "metadata": {
    "slideshow": {
     "slide_type": "fragment"
    }
   },
   "source": [
    "* Große Corpora meist nur in weit verbreiteten Sprachen vorhanden"
   ]
  },
  {
   "cell_type": "markdown",
   "metadata": {
    "slideshow": {
     "slide_type": "slide"
    }
   },
   "source": [
    "# Conclusions and Outlooks\n",
    "\n",
    "* Methoden und Modelle aller 3 Gebiete werden aktiv eingesetzt"
   ]
  },
  {
   "cell_type": "markdown",
   "metadata": {
    "slideshow": {
     "slide_type": "fragment"
    }
   },
   "source": [
    "* Tendenz geht momentan sehr stark in Richtung Neuronales NLP (seit etwa 2015)"
   ]
  },
  {
   "cell_type": "markdown",
   "metadata": {
    "slideshow": {
     "slide_type": "fragment"
    }
   },
   "source": [
    "### Die grundlegenden Probleme des NLP sind nach wie vor ungelöst!"
   ]
  },
  {
   "cell_type": "markdown",
   "metadata": {
    "slideshow": {
     "slide_type": "fragment"
    }
   },
   "source": [
    "1. Es heißt nach wie vor \"Natural Language _Processing_\" und nicht \"Natural Language _Unterstanding_\"."
   ]
  },
  {
   "cell_type": "markdown",
   "metadata": {
    "slideshow": {
     "slide_type": "fragment"
    }
   },
   "source": [
    "2. Es ist keinem der Ansätze gelungen, universelle (d.h. sprachenübergreifende) Models zu produzieren."
   ]
  }
 ],
 "metadata": {
  "celltoolbar": "Slideshow",
  "kernelspec": {
   "display_name": "Python 3",
   "language": "python",
   "name": "python3"
  },
  "language_info": {
   "codemirror_mode": {
    "name": "ipython",
    "version": 3
   },
   "file_extension": ".py",
   "mimetype": "text/x-python",
   "name": "python",
   "nbconvert_exporter": "python",
   "pygments_lexer": "ipython3",
   "version": "3.8.10"
  }
 },
 "nbformat": 4,
 "nbformat_minor": 4
}
